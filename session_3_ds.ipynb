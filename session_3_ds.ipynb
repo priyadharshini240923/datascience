{
  "nbformat": 4,
  "nbformat_minor": 0,
  "metadata": {
    "colab": {
      "provenance": []
    },
    "kernelspec": {
      "name": "python3",
      "display_name": "Python 3"
    },
    "language_info": {
      "name": "python"
    }
  },
  "cells": [
    {
      "cell_type": "code",
      "execution_count": null,
      "metadata": {
        "colab": {
          "base_uri": "https://localhost:8080/"
        },
        "id": "WWxLflPepS6v",
        "outputId": "c4461724-bf20-411a-f43d-f910f5c7e630"
      },
      "outputs": [
        {
          "output_type": "stream",
          "name": "stdout",
          "text": [
            "hello, excited to start data scinence.\n"
          ]
        }
      ],
      "source": [
        "print(\"hello, excited to start data scinence.\")"
      ]
    },
    {
      "cell_type": "code",
      "source": [
        "customer_name = \"priya\"\n",
        "customer_age =  39\n",
        "customer_balance = 2000\n",
        "print(\"customer:\",customer_name)\n",
        "print(\"age\", customer_age)\n",
        "print(\"balance:\", customer_balance)"
      ],
      "metadata": {
        "colab": {
          "base_uri": "https://localhost:8080/"
        },
        "id": "p98IQO4mpyxY",
        "outputId": "f302906a-8fe2-42b5-de22-475c1dc73dd7"
      },
      "execution_count": null,
      "outputs": [
        {
          "output_type": "stream",
          "name": "stdout",
          "text": [
            "customer: priya\n",
            "age 39\n",
            "balance: 2000\n"
          ]
        }
      ]
    },
    {
      "cell_type": "code",
      "source": [
        "product_price = 300\n",
        "discount = product_price * 0.23 # 10% discount\n",
        "final_price = product_price - discount\n",
        "print(\"final price after discount:\", final_price)"
      ],
      "metadata": {
        "colab": {
          "base_uri": "https://localhost:8080/"
        },
        "id": "RDLU67CIrLE8",
        "outputId": "c0688775-ba05-4c93-8295-280048a205e0"
      },
      "execution_count": null,
      "outputs": [
        {
          "output_type": "stream",
          "name": "stdout",
          "text": [
            "final price after discount: 231.0\n"
          ]
        }
      ]
    },
    {
      "cell_type": "code",
      "source": [
        "import numpy as np\n",
        "sales = np.array ([150, 200, 250, 300, 400, 350, 500])\n",
        "print(\"sales data:\",sales)"
      ],
      "metadata": {
        "colab": {
          "base_uri": "https://localhost:8080/"
        },
        "id": "ruSqXwRdMVUW",
        "outputId": "93623571-2426-4b6d-8acd-c05af8dec4d7"
      },
      "execution_count": null,
      "outputs": [
        {
          "output_type": "stream",
          "name": "stdout",
          "text": [
            "sales data: [150 200 250 300 400 350 500]\n"
          ]
        }
      ]
    },
    {
      "cell_type": "code",
      "source": [
        "def sales_stats(sales):\n",
        "  if not isinstance(sales, list) or not all (isinstance(s,(int,float ))for s in sales):\n",
        "    return{\"mean\": none,\"max\":none,\"min\":none}\n",
        "    return\n",
        "    {\n",
        "        \"mean\": sum(sales) / len(sales),\n",
        "        \"max\": max(sales),\n",
        "        \"min\":min(sales),\n",
        "    }\n"
      ],
      "metadata": {
        "id": "JhCpGPPYNP7G"
      },
      "execution_count": null,
      "outputs": []
    },
    {
      "cell_type": "code",
      "source": [
        "import pandas as pd\n",
        "data ={\n",
        "    \"customer\": [\"kani\", \"rose\" , \"sun\"],\n",
        "    \"age\": [25, 30, 35],\n",
        "    \"amount spent\": [120, 200, 150]\n",
        "}\n",
        "df = pd.DataFrame(data)\n",
        "print(df)"
      ],
      "metadata": {
        "colab": {
          "base_uri": "https://localhost:8080/"
        },
        "id": "GtFmkAX9RIZ0",
        "outputId": "b0807e1b-192f-437c-f3ca-20ee069b8484"
      },
      "execution_count": null,
      "outputs": [
        {
          "output_type": "stream",
          "name": "stdout",
          "text": [
            "  customer  age  amount spent\n",
            "0     kani   25           120\n",
            "1     rose   30           200\n",
            "2      sun   35           150\n"
          ]
        }
      ]
    },
    {
      "cell_type": "code",
      "source": [
        "import pandas as pd\n",
        "def read_csv(file):\n",
        "  try:\n",
        "     return pd.read_csv(file)\n",
        "  except:\n",
        "     return None\n",
        "df = read_csv(\"sales.csv\")\n",
        "if df is not None:\n",
        "   print(df)"
      ],
      "metadata": {
        "id": "ApCJi5OyS5OJ"
      },
      "execution_count": null,
      "outputs": []
    },
    {
      "cell_type": "code",
      "source": [
        "high_spenders = df[df[\"amount spent\"]> 150]\n",
        "print(high_spenders)\n"
      ],
      "metadata": {
        "id": "VveOUliMXx5B",
        "colab": {
          "base_uri": "https://localhost:8080/",
          "height": 176
        },
        "outputId": "27c4d7c3-3436-4ecd-ae3a-4d9b1250d580"
      },
      "execution_count": null,
      "outputs": [
        {
          "output_type": "error",
          "ename": "NameError",
          "evalue": "name 'df' is not defined",
          "traceback": [
            "\u001b[0;31m---------------------------------------------------------------------------\u001b[0m",
            "\u001b[0;31mNameError\u001b[0m                                 Traceback (most recent call last)",
            "\u001b[0;32m<ipython-input-1-af7733dc83a9>\u001b[0m in \u001b[0;36m<cell line: 0>\u001b[0;34m()\u001b[0m\n\u001b[0;32m----> 1\u001b[0;31m \u001b[0mhigh_spenders\u001b[0m \u001b[0;34m=\u001b[0m \u001b[0mdf\u001b[0m\u001b[0;34m[\u001b[0m\u001b[0mdf\u001b[0m\u001b[0;34m[\u001b[0m\u001b[0;34m\"amount spent\"\u001b[0m\u001b[0;34m]\u001b[0m\u001b[0;34m>\u001b[0m \u001b[0;36m150\u001b[0m\u001b[0;34m]\u001b[0m\u001b[0;34m\u001b[0m\u001b[0;34m\u001b[0m\u001b[0m\n\u001b[0m\u001b[1;32m      2\u001b[0m \u001b[0mprint\u001b[0m\u001b[0;34m(\u001b[0m\u001b[0mhigh_spenders\u001b[0m\u001b[0;34m)\u001b[0m\u001b[0;34m\u001b[0m\u001b[0;34m\u001b[0m\u001b[0m\n\u001b[1;32m      3\u001b[0m \u001b[0;34m\u001b[0m\u001b[0m\n",
            "\u001b[0;31mNameError\u001b[0m: name 'df' is not defined"
          ]
        }
      ]
    }
  ]
}