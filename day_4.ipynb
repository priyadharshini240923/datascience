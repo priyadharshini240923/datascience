{
  "nbformat": 4,
  "nbformat_minor": 0,
  "metadata": {
    "colab": {
      "provenance": []
    },
    "kernelspec": {
      "name": "python3",
      "display_name": "Python 3"
    },
    "language_info": {
      "name": "python"
    }
  },
  "cells": [
    {
      "cell_type": "code",
      "execution_count": null,
      "metadata": {
        "id": "qa2Qr1n7MZ78",
        "colab": {
          "base_uri": "https://localhost:8080/"
        },
        "outputId": "b17e0eb6-a2ac-4cbb-b0b4-0d7a055a700f"
      },
      "outputs": [
        {
          "output_type": "stream",
          "name": "stdout",
          "text": [
            "name          1\n",
            "age           1\n",
            "cholestrol    1\n",
            "BMI           1\n",
            "dtype: int64\n"
          ]
        }
      ],
      "source": [
        "import pandas as pd\n",
        "import numpy as np\n",
        "data={\"name\":[\"a\",\"b\",np.nan],\n",
        "      \"age\":[\"25\",np.nan,\"12\"],\n",
        "      \"cholestrol\":[210,np.nan,230],\n",
        "      \"BMI\":[21,45,np.nan]}\n",
        "df=pd.DataFrame(data)\n",
        "print(df.isnull().sum())\n",
        "\n"
      ]
    },
    {
      "cell_type": "code",
      "source": [
        "df_cleaned = df.dropna()\n",
        "print(df_cleaned)\n"
      ],
      "metadata": {
        "colab": {
          "base_uri": "https://localhost:8080/"
        },
        "id": "rnmqy9QWTv_b",
        "outputId": "5a599e31-a9a9-4489-d54f-e106f6ded9e7"
      },
      "execution_count": null,
      "outputs": [
        {
          "output_type": "stream",
          "name": "stdout",
          "text": [
            "  name age  cholestrol   BMI\n",
            "0    a  25       210.0  21.0\n"
          ]
        }
      ]
    },
    {
      "cell_type": "code",
      "source": [
        "import pandas as pd\n",
        "import numpy as np\n",
        "\n",
        "df = pd.DataFrame({\n",
        "  'marks': [20, 30, 20, 40, np.nan, 50, np.nan,\n",
        "            50, 20, 10, np.nan, 30 ],\n",
        "\n",
        "  'age': [20, 20, np.nan, 30, 90, np.nan,\n",
        "          80, 40, 50, 40, 70, 30],\n",
        "\n",
        "})\n",
        "\n",
        "df['marks'].fillna(int(df['marks'].mean()),inplace=True)\n",
        "print(df)\n"
      ],
      "metadata": {
        "colab": {
          "base_uri": "https://localhost:8080/"
        },
        "id": "kBMeAt2HUewH",
        "outputId": "47e131c0-f808-4028-caa4-0f29f442de28"
      },
      "execution_count": null,
      "outputs": [
        {
          "output_type": "stream",
          "name": "stdout",
          "text": [
            "    marks   age\n",
            "0    20.0  20.0\n",
            "1    30.0  20.0\n",
            "2    20.0   NaN\n",
            "3    40.0  30.0\n",
            "4    30.0  90.0\n",
            "5    50.0   NaN\n",
            "6    30.0  80.0\n",
            "7    50.0  40.0\n",
            "8    20.0  50.0\n",
            "9    10.0  40.0\n",
            "10   30.0  70.0\n",
            "11   30.0  30.0\n"
          ]
        },
        {
          "output_type": "stream",
          "name": "stderr",
          "text": [
            "<ipython-input-12-6b348acee7fc>:13: FutureWarning: A value is trying to be set on a copy of a DataFrame or Series through chained assignment using an inplace method.\n",
            "The behavior will change in pandas 3.0. This inplace method will never work because the intermediate object on which we are setting values always behaves as a copy.\n",
            "\n",
            "For example, when doing 'df[col].method(value, inplace=True)', try using 'df.method({col: value}, inplace=True)' or df[col] = df[col].method(value) instead, to perform the operation inplace on the original object.\n",
            "\n",
            "\n",
            "  df['marks'].fillna(int(df['marks'].mean()),inplace=True)\n"
          ]
        }
      ]
    },
    {
      "cell_type": "code",
      "source": [
        "df['marks'] = df['marks'].fillna(df['marks'].mode()[0])\n",
        "print(df)"
      ],
      "metadata": {
        "colab": {
          "base_uri": "https://localhost:8080/"
        },
        "id": "UzWaBE8acjEk",
        "outputId": "be38c8e9-bce3-4e57-9670-d0bfd86f4382"
      },
      "execution_count": null,
      "outputs": [
        {
          "output_type": "stream",
          "name": "stdout",
          "text": [
            "    marks   age\n",
            "0    20.0  20.0\n",
            "1    30.0  20.0\n",
            "2    20.0   NaN\n",
            "3    40.0  30.0\n",
            "4    30.0  90.0\n",
            "5    50.0   NaN\n",
            "6    30.0  80.0\n",
            "7    50.0  40.0\n",
            "8    20.0  50.0\n",
            "9    10.0  40.0\n",
            "10   30.0  70.0\n",
            "11   30.0  30.0\n"
          ]
        }
      ]
    },
    {
      "cell_type": "code",
      "source": [
        "df.ffill(inplace=True)\n",
        "df.bfill(inplace=True)\n",
        "df.drop_duplicates(inplace=True)"
      ],
      "metadata": {
        "id": "GhvY4yfjdWPz"
      },
      "execution_count": null,
      "outputs": []
    },
    {
      "cell_type": "code",
      "source": [
        "from sklearn.preprocessing import StandardScaler\n",
        "scaler=StandardScaler()\n",
        "df_scaled=df.copy()\n",
        "df_scaled[[\"marks\",\"age\"]]=scaler.fit_transform(df[[\"marks\",\"age\"]])\n",
        "print(df_scaled)"
      ],
      "metadata": {
        "colab": {
          "base_uri": "https://localhost:8080/"
        },
        "id": "ziSSiLWReEZN",
        "outputId": "e7cb64d2-cc91-43f1-a912-e3cbb78938dc"
      },
      "execution_count": null,
      "outputs": [
        {
          "output_type": "stream",
          "name": "stdout",
          "text": [
            "       marks       age\n",
            "0  -0.866025 -1.139941\n",
            "1   0.000000 -1.139941\n",
            "2  -0.866025       NaN\n",
            "3   0.866025 -0.717741\n",
            "4   0.000000  1.815461\n",
            "5   1.732051       NaN\n",
            "6   0.000000  1.393261\n",
            "7   1.732051 -0.295540\n",
            "8  -0.866025  0.126660\n",
            "9  -1.732051 -0.295540\n",
            "10  0.000000  0.971061\n",
            "11  0.000000 -0.717741\n"
          ]
        }
      ]
    },
    {
      "cell_type": "code",
      "source": [
        "from sklearn.preprocessing import MinMaxScaler\n",
        "scaler = MinMaxScaler()\n",
        "df_scaled[[\"marks\" , \"age\"]]\n",
        "scaler.fit_transform(df[[\"marks\" , \"age\"]])\n",
        "print(df_scaled)"
      ],
      "metadata": {
        "colab": {
          "base_uri": "https://localhost:8080/"
        },
        "id": "6QawNqXukJxH",
        "outputId": "da135db8-841d-4f7c-826a-250a3388f156"
      },
      "execution_count": null,
      "outputs": [
        {
          "output_type": "stream",
          "name": "stdout",
          "text": [
            "       marks       age\n",
            "0  -0.866025 -1.139941\n",
            "1   0.000000 -1.139941\n",
            "2  -0.866025       NaN\n",
            "3   0.866025 -0.717741\n",
            "4   0.000000  1.815461\n",
            "5   1.732051       NaN\n",
            "6   0.000000  1.393261\n",
            "7   1.732051 -0.295540\n",
            "8  -0.866025  0.126660\n",
            "9  -1.732051 -0.295540\n",
            "10  0.000000  0.971061\n",
            "11  0.000000 -0.717741\n"
          ]
        }
      ]
    },
    {
      "cell_type": "code",
      "source": [
        "df_encoded = pd.get_dummies(df, columns=[\"marks\"],drop_first=True)\n",
        "print(df_encoded)\n"
      ],
      "metadata": {
        "colab": {
          "base_uri": "https://localhost:8080/"
        },
        "id": "upO9lncGm7b8",
        "outputId": "d5838f2c-82ee-4bd8-834a-b1b16d120863"
      },
      "execution_count": null,
      "outputs": [
        {
          "output_type": "stream",
          "name": "stdout",
          "text": [
            "     age  marks_20.0  marks_30.0  marks_40.0  marks_50.0\n",
            "0   20.0        True       False       False       False\n",
            "1   20.0       False        True       False       False\n",
            "2    NaN        True       False       False       False\n",
            "3   30.0       False       False        True       False\n",
            "4   90.0       False        True       False       False\n",
            "5    NaN       False       False       False        True\n",
            "6   80.0       False        True       False       False\n",
            "7   40.0       False       False       False        True\n",
            "8   50.0        True       False       False       False\n",
            "9   40.0       False       False       False       False\n",
            "10  70.0       False        True       False       False\n",
            "11  30.0       False        True       False       False\n"
          ]
        }
      ]
    },
    {
      "cell_type": "code",
      "source": [
        "from sklearn.preprocessing import LabelEncoder\n",
        "encoder = LabelEncoder()\n",
        "df[\"marks\"] = encoder.fit_transform(df[\"marks\"])\n",
        "print(df)"
      ],
      "metadata": {
        "colab": {
          "base_uri": "https://localhost:8080/"
        },
        "id": "0LCPiZwrkOwn",
        "outputId": "873af1a6-4ef9-492b-e04d-d29f639f2876"
      },
      "execution_count": null,
      "outputs": [
        {
          "output_type": "stream",
          "name": "stdout",
          "text": [
            "    marks   age\n",
            "0       1  20.0\n",
            "1       2  20.0\n",
            "2       1   NaN\n",
            "3       3  30.0\n",
            "4       2  90.0\n",
            "5       4   NaN\n",
            "6       2  80.0\n",
            "7       4  40.0\n",
            "8       1  50.0\n",
            "9       0  40.0\n",
            "10      2  70.0\n",
            "11      2  30.0\n"
          ]
        }
      ]
    },
    {
      "cell_type": "code",
      "source": [
        "import pandas as pd\n",
        "def performance_category(marks):\n",
        "  if marks >= 85:\n",
        "    return \"High\"\n",
        "  elif marks >= 70:\n",
        "    return \"Medium\"\n",
        "  else:\n",
        "    return \"Low\"\n",
        "data = {'marks': [88, 72, 60, 95]}\n",
        "df = pd.DataFrame(data)\n",
        "df[\"performance\"] = df[\"marks\"].apply(performance_category)\n",
        "print(df)"
      ],
      "metadata": {
        "id": "PydRx7Gvp4UK",
        "colab": {
          "base_uri": "https://localhost:8080/"
        },
        "outputId": "1b28fb94-012b-4b26-fe2f-d96787d7eca7"
      },
      "execution_count": null,
      "outputs": [
        {
          "output_type": "stream",
          "name": "stdout",
          "text": [
            "   marks performance\n",
            "0     88        High\n",
            "1     72      Medium\n",
            "2     60         Low\n",
            "3     95        High\n"
          ]
        }
      ]
    },
    {
      "cell_type": "code",
      "source": [
        "df[\"marks_Group\"] = pd.cut(df[\"marks\"], bins=[18, 21, 24],labels=[\"high\" , \"medium\"])\n",
        "print(df)"
      ],
      "metadata": {
        "colab": {
          "base_uri": "https://localhost:8080/"
        },
        "id": "kIGImtKlNmXE",
        "outputId": "5b1b9c4b-cf7e-4273-fa5e-b82026425426"
      },
      "execution_count": null,
      "outputs": [
        {
          "output_type": "stream",
          "name": "stdout",
          "text": [
            "   marks performance marks_Group\n",
            "0     88        High         NaN\n",
            "1     72      Medium         NaN\n",
            "2     60         Low         NaN\n",
            "3     95        High         NaN\n"
          ]
        }
      ]
    }
  ]
}