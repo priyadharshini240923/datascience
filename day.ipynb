{
  "nbformat": 4,
  "nbformat_minor": 0,
  "metadata": {
    "colab": {
      "provenance": []
    },
    "kernelspec": {
      "name": "python3",
      "display_name": "Python 3"
    },
    "language_info": {
      "name": "python"
    }
  },
  "cells": [
    {
      "cell_type": "code",
      "execution_count": null,
      "metadata": {
        "id": "PcGc3KRK79kT",
        "colab": {
          "base_uri": "https://localhost:8080/"
        },
        "outputId": "d76706f0-4960-4740-9881-e564b0a0f740"
      },
      "outputs": [
        {
          "output_type": "stream",
          "name": "stdout",
          "text": [
            "abc\n",
            "28\n",
            "3.27\n",
            "48\n"
          ]
        }
      ],
      "source": [
        "a=\"abc\"\n",
        "b=28\n",
        "w=3.27\n",
        "h=48\n",
        "print(a)\n",
        "print(b)\n",
        "print(w)\n",
        "print(h)\n",
        "bmi=w/(h**2)\n",
        "if bmi>18.5:\n",
        "  print(\"underweight\")\n",
        "elif bmi>18.5 and bmi<24.9:\n",
        "    print(\"normal weight\")\n",
        "elif bmi>25 and bmi<29.9:\n",
        "    print (\"over weight\")\n",
        "\n"
      ]
    },
    {
      "cell_type": "code",
      "source": [
        "import numpy as np\n",
        "heart_rate=np.array([45,55,65,75,85])\n",
        "avg=np.mean(heart_rate)\n",
        "high=np.max(heart_rate)\n",
        "low=np.min(heart_rate)\n",
        "print(\"avg heart rate : \",avg)\n",
        "print(\"avg heart rate : \",high)\n",
        "print(\"avg heart rate : \",low)"
      ],
      "metadata": {
        "colab": {
          "base_uri": "https://localhost:8080/"
        },
        "id": "Tco8VHwrN_Rt",
        "outputId": "d0e496f0-89c5-486e-8ebc-26ff9193683a"
      },
      "execution_count": null,
      "outputs": [
        {
          "output_type": "stream",
          "name": "stdout",
          "text": [
            "avg heart rate :  65.0\n",
            "avg heart rate :  85\n",
            "avg heart rate :  45\n"
          ]
        }
      ]
    },
    {
      "cell_type": "code",
      "source": [
        "import pandas as pd\n",
        "data={\"name\":[\"sun\",\"moon\",\"then\"],\n",
        "      \"age\":[\"25\",\"24\",\"25\"],\n",
        "      \"cholestral\":[230,255,266]}\n"
      ],
      "metadata": {
        "id": "J3rlfQ0NTH8m"
      },
      "execution_count": null,
      "outputs": []
    }
  ]
}